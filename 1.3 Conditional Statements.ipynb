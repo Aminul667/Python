{
 "cells": [
  {
   "cell_type": "markdown",
   "metadata": {},
   "source": [
    "# If Statement"
   ]
  },
  {
   "cell_type": "code",
   "execution_count": 5,
   "metadata": {},
   "outputs": [
    {
     "name": "stdout",
     "output_type": "stream",
     "text": [
      "The number is  20\n",
      "It is not the condition\n"
     ]
    }
   ],
   "source": [
    "x = 20\n",
    "if x>10:\n",
    "    print('The number is ',x)\n",
    "    print('It is not the condition')"
   ]
  },
  {
   "cell_type": "code",
   "execution_count": 7,
   "metadata": {},
   "outputs": [
    {
     "name": "stdout",
     "output_type": "stream",
     "text": [
      "The number is 20\n",
      "It is less than 30\n"
     ]
    }
   ],
   "source": [
    "x = 20\n",
    "if x>10:\n",
    "    print('The number is', x)\n",
    "    if x<30:\n",
    "        print('It is less than 30')"
   ]
  },
  {
   "cell_type": "code",
   "execution_count": 9,
   "metadata": {},
   "outputs": [
    {
     "name": "stdout",
     "output_type": "stream",
     "text": [
      "The number is 40\n"
     ]
    }
   ],
   "source": [
    "x = 40\n",
    "if x > 10:\n",
    "    print('The number is', x)\n",
    "    if x < 30:\n",
    "        print('It is less than 30')"
   ]
  },
  {
   "cell_type": "code",
   "execution_count": 11,
   "metadata": {},
   "outputs": [],
   "source": [
    "x = 40\n",
    "if x > 10 and x < 30:\n",
    "    print('The number is {} and it is less than 30'.format(x))"
   ]
  },
  {
   "cell_type": "markdown",
   "metadata": {},
   "source": [
    "# if...else statement"
   ]
  },
  {
   "cell_type": "code",
   "execution_count": 14,
   "metadata": {},
   "outputs": [
    {
     "name": "stdout",
     "output_type": "stream",
     "text": [
      "The square is  100\n"
     ]
    }
   ],
   "source": [
    "x = 10\n",
    "if x == 10:\n",
    "    square = x**2\n",
    "    print('The square is ', square)\n",
    "else:\n",
    "    print('The number is ',x)"
   ]
  },
  {
   "cell_type": "code",
   "execution_count": 15,
   "metadata": {},
   "outputs": [
    {
     "name": "stdout",
     "output_type": "stream",
     "text": [
      "b is greater\n"
     ]
    }
   ],
   "source": [
    "a = 10\n",
    "b = 20\n",
    "\n",
    "if a > b:\n",
    "    print('a is greater')\n",
    "else:\n",
    "    print('b is greater')"
   ]
  },
  {
   "cell_type": "code",
   "execution_count": 17,
   "metadata": {},
   "outputs": [
    {
     "name": "stdout",
     "output_type": "stream",
     "text": [
      "Lower case\n"
     ]
    }
   ],
   "source": [
    "s = 'f'\n",
    "\n",
    "if s >= 'a' and s <= 'z':\n",
    "    print('Lower case')\n",
    "else:\n",
    "    print('Upper case')"
   ]
  },
  {
   "cell_type": "code",
   "execution_count": 19,
   "metadata": {},
   "outputs": [
    {
     "name": "stdout",
     "output_type": "stream",
     "text": [
      "Vowel\n"
     ]
    }
   ],
   "source": [
    "s = 'u'\n",
    "l = ['A','E','I','O','U','a','e','i','o','u']\n",
    "if s in l:\n",
    "    print('Vowel')\n",
    "else:\n",
    "    print('Consonant')"
   ]
  },
  {
   "cell_type": "markdown",
   "metadata": {},
   "source": [
    "# Tricks in conditional statements"
   ]
  },
  {
   "cell_type": "markdown",
   "metadata": {},
   "source": [
    "## one line statement"
   ]
  },
  {
   "cell_type": "code",
   "execution_count": 20,
   "metadata": {},
   "outputs": [
    {
     "name": "stdout",
     "output_type": "stream",
     "text": [
      "Even\n"
     ]
    }
   ],
   "source": [
    "x = 20\n",
    "if x%2 == 0:\n",
    "    print('Even')"
   ]
  },
  {
   "cell_type": "code",
   "execution_count": 21,
   "metadata": {},
   "outputs": [
    {
     "name": "stdout",
     "output_type": "stream",
     "text": [
      "Even\n"
     ]
    }
   ],
   "source": [
    "x = 20\n",
    "if x%2==0: print('Even')"
   ]
  },
  {
   "cell_type": "code",
   "execution_count": 23,
   "metadata": {},
   "outputs": [
    {
     "name": "stdout",
     "output_type": "stream",
     "text": [
      "The number is: \n",
      "20\n",
      "It is  even\n"
     ]
    }
   ],
   "source": [
    "x = 20\n",
    "if x % 2==0: print('The number is: '); print(x); print('It is  even')"
   ]
  },
  {
   "cell_type": "code",
   "execution_count": 1,
   "metadata": {},
   "outputs": [
    {
     "name": "stdout",
     "output_type": "stream",
     "text": [
      "Even\n"
     ]
    }
   ],
   "source": [
    "x = 20\n",
    "if x % 2 == 0: print('Even')\n",
    "else: print('Odd')"
   ]
  },
  {
   "cell_type": "markdown",
   "metadata": {},
   "source": [
    "# Ternary Operator"
   ]
  },
  {
   "cell_type": "code",
   "execution_count": 29,
   "metadata": {},
   "outputs": [],
   "source": [
    "x = 40\n",
    "y = 30\n",
    "\n",
    "z = 1 + x if x > y else y+2"
   ]
  },
  {
   "cell_type": "code",
   "execution_count": 30,
   "metadata": {},
   "outputs": [
    {
     "name": "stdout",
     "output_type": "stream",
     "text": [
      "41\n"
     ]
    }
   ],
   "source": [
    "print(z)"
   ]
  },
  {
   "cell_type": "code",
   "execution_count": 32,
   "metadata": {},
   "outputs": [
    {
     "name": "stdout",
     "output_type": "stream",
     "text": [
      "minor\n"
     ]
    }
   ],
   "source": [
    "age = 12\n",
    "s = 'minor' if age<21 else 'adult'\n",
    "print(s)"
   ]
  },
  {
   "cell_type": "code",
   "execution_count": 33,
   "metadata": {},
   "outputs": [
    {
     "data": {
      "text/plain": [
       "str"
      ]
     },
     "execution_count": 33,
     "metadata": {},
     "output_type": "execute_result"
    }
   ],
   "source": [
    "type(s)"
   ]
  },
  {
   "cell_type": "markdown",
   "metadata": {},
   "source": [
    "# Project"
   ]
  },
  {
   "cell_type": "code",
   "execution_count": 2,
   "metadata": {},
   "outputs": [
    {
     "name": "stdout",
     "output_type": "stream",
     "text": [
      "1: Celcius to Farhenheit\n",
      "2: Farhenheit to Celcius\n",
      "Enter your optionm: 2\n",
      "Enter the Fahrenheit Temperature: 43\n",
      "Celcius Teperature:  6.11\n"
     ]
    }
   ],
   "source": [
    "print('1: Celcius to Farhenheit')\n",
    "print('2: Farhenheit to Celcius')\n",
    "\n",
    "n = int(input('Enter your optionm: '))\n",
    "\n",
    "if n == 1:\n",
    "    c = float(input('Enter the Celcius Temeprature: '))\n",
    "    f = (9/5)*c+32\n",
    "#     print('Fahrenheit Temperature: ',f)\n",
    "#     print('Fahrenheit Temperature: %0.2f' %f)\n",
    "   \n",
    "elif n == 2:\n",
    "    f = float(input('Enter the Fahrenheit Temperature: '))\n",
    "    c = (5/9)*(f-32)\n",
    "#     print('Celcius Teperature: ',c)\n",
    "#     print('Celcius Teperature: %0.2f' %c)\n",
    "    print('Celcius Teperature: ',round(c,2))\n",
    "else:\n",
    "    print('Invalid Option')"
   ]
  }
 ],
 "metadata": {
  "kernelspec": {
   "display_name": "Python 3",
   "language": "python",
   "name": "python3"
  },
  "language_info": {
   "codemirror_mode": {
    "name": "ipython",
    "version": 3
   },
   "file_extension": ".py",
   "mimetype": "text/x-python",
   "name": "python",
   "nbconvert_exporter": "python",
   "pygments_lexer": "ipython3",
   "version": "3.7.4"
  }
 },
 "nbformat": 4,
 "nbformat_minor": 2
}
